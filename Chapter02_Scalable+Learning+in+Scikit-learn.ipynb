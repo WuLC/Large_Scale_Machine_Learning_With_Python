{
 "cells": [
  {
   "cell_type": "markdown",
   "metadata": {},
   "source": [
    "## Datasets to try the real thing yourself"
   ]
  },
  {
   "cell_type": "code",
   "execution_count": 1,
   "metadata": {
    "collapsed": true
   },
   "outputs": [],
   "source": [
    "import urllib2 # import urllib.request as urllib2 in Python3\n",
    "import requests, io, os, StringIO\n",
    "import numpy as np\n",
    "import tarfile, zipfile, gzip\n",
    "\n",
    "def unzip_from_UCI(UCI_url, dest=''):\n",
    "    \"\"\"\n",
    "    Downloads and unpacks datasets from UCI in zip format\n",
    "    \"\"\"\n",
    "    response = requests.get(UCI_url)\n",
    "    compressed_file = io.BytesIO(response.content)\n",
    "    z = zipfile.ZipFile(compressed_file)\n",
    "    print ('Extracting in %s' %  os.getcwd()+'/'+dest)\n",
    "    for name in z.namelist():\n",
    "        if '.csv' in name:\n",
    "            print ('\\tunzipping %s' %name)\n",
    "            z.extract(name, path=os.getcwd()+'/'+dest)\n",
    "\n",
    "def gzip_from_UCI(UCI_url, dest=''):\n",
    "    \"\"\"\n",
    "    Downloads and unpacks datasets from UCI in gzip format\n",
    "    \"\"\"\n",
    "    response = urllib2.urlopen(UCI_url)\n",
    "    compressed_file = io.BytesIO(response.read())\n",
    "    decompressed_file = gzip.GzipFile(fileobj=compressed_file)\n",
    "    filename = UCI_url.split('/')[-1][:-3]\n",
    "    with open(os.getcwd()+'/'+filename, 'wb') as outfile:\n",
    "        outfile.write(decompressed_file.read())\n",
    "    print ('File %s decompressed' % filename)\n",
    "            \n",
    "def targzip_from_UCI(UCI_url, dest='.'):\n",
    "    \"\"\"\n",
    "    Downloads and unpacks datasets from UCI in tar.gz format\n",
    "    \"\"\"\n",
    "    response = urllib2.urlopen(UCI_url)\n",
    "    compressed_file = StringIO.StringIO(response.read())\n",
    "    tar = tarfile.open(mode=\"r:gz\", fileobj = compressed_file)\n",
    "    tar.extractall(path=dest)\n",
    "    datasets = tar.getnames()\n",
    "    for dataset in datasets:\n",
    "        size = os.path.getsize(dest+'/'+dataset)\n",
    "        print ('File %s is %i bytes' % (dataset,size))\n",
    "    tar.close()\n",
    "\n",
    "def load_matrix(UCI_url):\n",
    "    \"\"\"\n",
    "    Downloads datasets from UCI in matrix form\n",
    "    \"\"\"\n",
    "    return np.loadtxt(urllib2.urlopen(UCI_url))"
   ]
  },
  {
   "cell_type": "markdown",
   "metadata": {},
   "source": [
    "### Bike Sharing Dataset Data Set"
   ]
  },
  {
   "cell_type": "code",
   "execution_count": 2,
   "metadata": {
    "scrolled": true
   },
   "outputs": [
    {
     "name": "stdout",
     "output_type": "stream",
     "text": [
      "Extracting in /home/notebooks/Large-Scale-Machine-Learning-With-Python/Chapter02/bikesharing\n",
      "\tunzipping day.csv\n",
      "\tunzipping hour.csv\n"
     ]
    }
   ],
   "source": [
    "UCI_url = 'https://archive.ics.uci.edu/ml/machine-learning-databases/00275/Bike-Sharing-Dataset.zip'\n",
    "unzip_from_UCI(UCI_url, dest='bikesharing')"
   ]
  },
  {
   "cell_type": "markdown",
   "metadata": {},
   "source": [
    "## Streaming the bikesharing dataset"
   ]
  },
  {
   "cell_type": "code",
   "execution_count": 8,
   "metadata": {},
   "outputs": [
    {
     "name": "stdout",
     "output_type": "stream",
     "text": [
      "Total rows: 17380\n",
      "Header: instant, dteday, season, yr, mnth, hr, holiday, weekday, workingday, weathersit, temp, atemp, hum, windspeed, casual, registered, cnt\n",
      "Sample values: <type 'list'>\n"
     ]
    }
   ],
   "source": [
    "import os, csv\n",
    "local_path = os.getcwd()\n",
    "source = 'bikesharing/hour.csv'\n",
    "SEP = ',' # We define this for being able to easily change it as required by the file\n",
    "with open(local_path+'/'+source, 'rb') as R:\n",
    "    iterator = csv.reader(R, delimiter=SEP)\n",
    "    for n, row in enumerate(iterator):\n",
    "        if n==0:\n",
    "            header = row\n",
    "        else:\n",
    "            # DATA PROCESSING placeholder\n",
    "            # MACHINE LEARNING placeholder\n",
    "            pass\n",
    "    print ('Total rows: %i' % (n+1))\n",
    "    print ('Header: %s' % ', '.join(header))\n",
    "    print ('Sample values: %s' % ', '.join(row))"
   ]
  },
  {
   "cell_type": "code",
   "execution_count": 7,
   "metadata": {},
   "outputs": [
    {
     "name": "stdout",
     "output_type": "stream",
     "text": [
      "Total rows: 17379\n",
      "Sample values: {'mnth': '12', 'cnt': '49', 'holiday': '0', 'instant': '17379', 'temp': '0.26', 'dteday': '2012-12-31', 'hr': '23', 'season': '1', 'registered': '37', 'windspeed': '0.1343', 'atemp': '0.2727', 'workingday': '1', 'weathersit': '1', 'weekday': '1', 'hum': '0.65', 'yr': '1', 'casual': '12'}\n"
     ]
    }
   ],
   "source": [
    "with open(local_path+'/'+source, 'rb') as R:\n",
    "    iterator = csv.DictReader(R, delimiter=SEP)\n",
    "    for n, row in enumerate(iterator):\n",
    "        # DATA PROCESSING placeholder\n",
    "        # MACHINE LEARNING placeholder\n",
    "        pass\n",
    "    print ('Total rows: %i' % (n+1))\n",
    "    print ('Sample values: %s' % row)"
   ]
  },
  {
   "cell_type": "markdown",
   "metadata": {},
   "source": [
    "## Using pandas I/O tools"
   ]
  },
  {
   "cell_type": "code",
   "execution_count": 9,
   "metadata": {},
   "outputs": [
    {
     "name": "stdout",
     "output_type": "stream",
     "text": [
      "Size of uploaded chunk: 1000 instances, 17 features\n",
      "Size of uploaded chunk: 1000 instances, 17 features\n",
      "Size of uploaded chunk: 1000 instances, 17 features\n",
      "Size of uploaded chunk: 1000 instances, 17 features\n",
      "Size of uploaded chunk: 1000 instances, 17 features\n",
      "Size of uploaded chunk: 1000 instances, 17 features\n",
      "Size of uploaded chunk: 1000 instances, 17 features\n",
      "Size of uploaded chunk: 1000 instances, 17 features\n",
      "Size of uploaded chunk: 1000 instances, 17 features\n",
      "Size of uploaded chunk: 1000 instances, 17 features\n",
      "Size of uploaded chunk: 1000 instances, 17 features\n",
      "Size of uploaded chunk: 1000 instances, 17 features\n",
      "Size of uploaded chunk: 1000 instances, 17 features\n",
      "Size of uploaded chunk: 1000 instances, 17 features\n",
      "Size of uploaded chunk: 1000 instances, 17 features\n",
      "Size of uploaded chunk: 1000 instances, 17 features\n",
      "Size of uploaded chunk: 1000 instances, 17 features\n",
      "Size of uploaded chunk: 379 instances, 17 features\n",
      "Sample values: \n",
      "instant            17001\n",
      "dteday        2012-12-16\n",
      "season                 4\n",
      "yr                     1\n",
      "mnth                  12\n",
      "hr                     3\n",
      "holiday                0\n",
      "weekday                0\n",
      "workingday             0\n",
      "weathersit             2\n",
      "temp                0.34\n",
      "atemp             0.3333\n",
      "hum                 0.87\n",
      "windspeed          0.194\n",
      "casual                 1\n",
      "registered            37\n",
      "cnt                   38\n",
      "Name: 17000, dtype: object\n"
     ]
    }
   ],
   "source": [
    "import pandas as pd\n",
    "CHUNK_SIZE = 1000\n",
    "with open(local_path+'/'+source, 'rb') as R:\n",
    "    iterator = pd.read_csv(R, chunksize=CHUNK_SIZE) \n",
    "    for n, data_chunk in enumerate(iterator):\n",
    "        print ('Size of uploaded chunk: %i instances, %i features' % (data_chunk.shape))\n",
    "        # DATA PROCESSING placeholder\n",
    "        # MACHINE LEARNING placeholder\n",
    "        pass\n",
    "    print ('Sample values: \\n%s' % str(data_chunk.iloc[0]))"
   ]
  },
  {
   "cell_type": "markdown",
   "metadata": {},
   "source": [
    "## Working with databases"
   ]
  },
  {
   "cell_type": "code",
   "execution_count": 10,
   "metadata": {
    "collapsed": true
   },
   "outputs": [],
   "source": [
    "import os, sys\n",
    "import sqlite3, csv, glob\n",
    "\n",
    "SEP = ','\n",
    "\n",
    "def define_field(s):\n",
    "    try:\n",
    "        int(s)\n",
    "        return 'integer'\n",
    "    except ValueError:\n",
    "        try:\n",
    "            float(s)\n",
    "            return 'real'\n",
    "        except:\n",
    "            return 'text'\n",
    "\n",
    "def create_sqlite_db(db='database.sqlite', file_pattern=''):\n",
    "    conn = sqlite3.connect(db)\n",
    "    conn.text_factory = str  # allows utf-8 data to be stored\n",
    "\n",
    "    c = conn.cursor()\n",
    "\n",
    "    # traverse the directory and process each .csv file useful for building the db\n",
    "    target_files = glob.glob(file_pattern) \n",
    "\n",
    "    print ('Creating %i table(s) into %s from file(s): %s' % (len(target_files), db, ', '.join(target_files)))\n",
    "\n",
    "    for k,csvfile in enumerate(target_files):\n",
    "        # remove the path and extension and use what's left as a table name\n",
    "        tablename = os.path.splitext(os.path.basename(csvfile))[0]\n",
    "\n",
    "        with open(csvfile, \"rb\") as f:\n",
    "            reader = csv.reader(f, delimiter=SEP)\n",
    "\n",
    "            f.seek(0)\n",
    "            for n,row in enumerate(reader):\n",
    "                if n==11:\n",
    "                    types = map(define_field,row)\n",
    "                else:\n",
    "                    if n>11:\n",
    "                        break      \n",
    "\n",
    "            f.seek(0)\n",
    "            for n,row in enumerate(reader):\n",
    "                if n==0:\n",
    "\n",
    "                    sql = \"DROP TABLE IF EXISTS %s\" % tablename\n",
    "                    c.execute(sql)\n",
    "                    sql = \"CREATE TABLE %s (%s)\" % (tablename,\n",
    "                              \", \".join([ \"%s %s\" % (col, ct) for col, ct  in zip(row, types)]))\n",
    "                    print ('%i) %s' % (k+1,sql))\n",
    "                    c.execute(sql)\n",
    "\n",
    "                    # Creating indexes for faster joins on long strings\n",
    "                    for column in row:\n",
    "                        if column.endswith(\"_ID_hash\"):\n",
    "                            index = \"%s__%s\" % ( tablename, column )\n",
    "                            sql = \"CREATE INDEX %s on %s (%s)\" % ( index, tablename, column )\n",
    "                            c.execute(sql) \n",
    "\n",
    "                    insertsql = \"INSERT INTO %s VALUES (%s)\" % (tablename,\n",
    "                                \", \".join([ \"?\" for column in row ]))\n",
    "\n",
    "                    rowlen = len(row)\n",
    "                else:\n",
    "                    # raise an error if there are rows that don't have the right number of fields\n",
    "                    if len(row) == rowlen:\n",
    "                        c.execute(insertsql, row)\n",
    "                    else:\n",
    "                        print ('Error at line %i in file %s') % (n,csvfile)\n",
    "                        raise ValueError('Houston, we\\'ve had a problem at row %i' % n)\n",
    "\n",
    "            conn.commit()\n",
    "            print ('* Inserted %i rows' % n)\n",
    "\n",
    "    c.close()\n",
    "    conn.close()"
   ]
  },
  {
   "cell_type": "code",
   "execution_count": 11,
   "metadata": {},
   "outputs": [
    {
     "name": "stdout",
     "output_type": "stream",
     "text": [
      "Creating 2 table(s) into bikesharing.sqlite from file(s): bikesharing/hour.csv, bikesharing/day.csv\n",
      "1) CREATE TABLE hour (instant integer, dteday text, season integer, yr integer, mnth integer, hr integer, holiday integer, weekday integer, workingday integer, weathersit integer, temp real, atemp real, hum real, windspeed real, casual integer, registered integer, cnt integer)\n",
      "* Inserted 17379 rows\n",
      "2) CREATE TABLE day (instant integer, dteday text, season integer, yr integer, mnth integer, holiday integer, weekday integer, workingday integer, weathersit integer, temp real, atemp real, hum real, windspeed real, casual integer, registered integer, cnt integer)\n",
      "* Inserted 731 rows\n"
     ]
    }
   ],
   "source": [
    "create_sqlite_db(db='bikesharing.sqlite', file_pattern='bikesharing/*.csv')"
   ]
  },
  {
   "cell_type": "code",
   "execution_count": 13,
   "metadata": {},
   "outputs": [
    {
     "name": "stdout",
     "output_type": "stream",
     "text": [
      "Chunk 1 - Size of uploaded chunk: 2500 istances, 18 features\n",
      "Chunk 2 - Size of uploaded chunk: 2500 istances, 18 features\n",
      "Chunk 3 - Size of uploaded chunk: 2500 istances, 18 features\n",
      "Chunk 4 - Size of uploaded chunk: 2500 istances, 18 features\n",
      "Chunk 5 - Size of uploaded chunk: 2500 istances, 18 features\n",
      "Chunk 6 - Size of uploaded chunk: 2500 istances, 18 features\n",
      "Chunk 7 - Size of uploaded chunk: 2379 istances, 18 features\n"
     ]
    }
   ],
   "source": [
    "import os, sqlite3\n",
    "import pandas as pd\n",
    "\n",
    "DB_NAME = 'bikesharing.sqlite'\n",
    "DIR_PATH = os.getcwd()\n",
    "CHUNK_SIZE = 2500\n",
    "\n",
    "conn = sqlite3.connect(DIR_PATH+'/'+DB_NAME)\n",
    "conn.text_factory = str  # allows utf-8 data to be stored     \n",
    "sql = \"SELECT H.*, D.cnt AS day_cnt FROM hour AS H INNER JOIN day as D ON (H.dteday = D.dteday)\"\n",
    "DB_stream = pd.io.sql.read_sql(sql, conn, chunksize=CHUNK_SIZE)\n",
    "for j,data_chunk in enumerate(DB_stream):\n",
    "    print ('Chunk %i -' % (j+1)),\n",
    "    print ('Size of uploaded chunk: %i istances, %i features' % (data_chunk.shape))\n",
    "    # DATA PROCESSING placeholder\n",
    "    # MACHINE LEARNING placeholder"
   ]
  },
  {
   "cell_type": "markdown",
   "metadata": {},
   "source": [
    "## Paying caution to the ordering of instances"
   ]
  },
  {
   "cell_type": "code",
   "execution_count": 14,
   "metadata": {
    "collapsed": true
   },
   "outputs": [],
   "source": [
    "import zlib\n",
    "from random import shuffle\n",
    "\n",
    "def ram_shuffle(filename_in, filename_out, header=True):\n",
    "    with open(filename_in, 'rb') as f:\n",
    "        zlines = [zlib.compress(line, 9) for line in f]\n",
    "        if header:\n",
    "            first_row = zlines.pop(0)\n",
    "    shuffle(zlines)\n",
    "    with open(filename_out, 'wb') as f:\n",
    "        if header:\n",
    "            f.write(zlib.decompress(first_row))\n",
    "        for zline in zlines:\n",
    "            f.write(zlib.decompress(zline))\n",
    "\n",
    "import os\n",
    "\n",
    "local_path = os.getcwd()\n",
    "source = 'bikesharing/hour.csv'\n",
    "ram_shuffle(filename_in=local_path+'/'+source, \\\n",
    "                   filename_out=local_path+'/bikesharing/shuffled_hour.csv', header=True)"
   ]
  },
  {
   "cell_type": "code",
   "execution_count": 15,
   "metadata": {
    "collapsed": true
   },
   "outputs": [],
   "source": [
    "from random import shuffle\n",
    "import pandas as pd\n",
    "import numpy as np\n",
    "import os\n",
    "\n",
    "def disk_shuffle(filename_in, filename_out, header=True, iterations = 3, CHUNK_SIZE = 2500, SEP=','):\n",
    "    for i in range(iterations):\n",
    "        with open(filename_in, 'rb') as R:\n",
    "            iterator = pd.read_csv(R, chunksize=CHUNK_SIZE) \n",
    "            for n, df in enumerate(iterator):\n",
    "                if n==0 and header:\n",
    "                    header_cols =SEP.join(df.columns)+'\\n'\n",
    "                df.iloc[np.random.permutation(len(df))].to_csv(str(n)+'_chunk.csv', index=False, header=False, sep=SEP)\n",
    "        ordering = list(range(0,n+1))\n",
    "        shuffle(ordering)\n",
    "        with open(filename_out, 'wb') as W:\n",
    "            if header:\n",
    "                W.write(header_cols)\n",
    "            for f in ordering:\n",
    "                with open(str(f)+'_chunk.csv', 'r') as R:\n",
    "                    for line in R:\n",
    "                        W.write(line)\n",
    "                os.remove(str(f)+'_chunk.csv')\n",
    "        filename_in = filename_out\n",
    "        CHUNK_SIZE = int(CHUNK_SIZE / 2)\n",
    "\n",
    "import os\n",
    "\n",
    "local_path = os.getcwd()\n",
    "source = 'bikesharing/hour.csv'\n",
    "disk_shuffle(filename_in=local_path+'/'+source, \\\n",
    "                   filename_out=local_path+'/bikesharing/disk_shuffled_hour.csv', header=True)"
   ]
  },
  {
   "cell_type": "markdown",
   "metadata": {},
   "source": [
    "## Feature management with data streams"
   ]
  },
  {
   "cell_type": "code",
   "execution_count": 25,
   "metadata": {
    "scrolled": false
   },
   "outputs": [
    {
     "name": "stdout",
     "output_type": "stream",
     "text": [
      "===========raw data file===========\n",
      "Total rows: 17379\n",
      "Feature 'temp': mean=0.497, max=1.000, min=0.020,sd=0.193\n",
      "===========shuffle data file===========\n",
      "Total rows: 17379\n",
      "Feature 'temp': mean=0.497, max=1.000, min=0.020,sd=0.193\n"
     ]
    }
   ],
   "source": [
    "# calculate the running mean,standard deviation, and range reporting the final result\n",
    "import os, csv\n",
    "local_path = os.getcwd()\n",
    "raw_source = 'bikesharing/hour.csv' # unshuffle\n",
    "shuffle_source = 'bikesharing/shuffled_hour.csv'\n",
    "\n",
    "def running_statistic(source):\n",
    "    SEP=','\n",
    "    running_mean = list()\n",
    "    running_std = list()\n",
    "    with open(local_path+'/'+source, 'rb') as R:\n",
    "        iterator = csv.DictReader(R, delimiter=SEP)\n",
    "        x = 0.0\n",
    "        x_squared = 0.0\n",
    "        for n, row in enumerate(iterator):\n",
    "            temp = float(row['temp'])\n",
    "            if n == 0:\n",
    "                max_x, min_x = temp, temp\n",
    "            else:\n",
    "                max_x, min_x = max(temp, max_x),min(temp, min_x)\n",
    "            x += temp\n",
    "            x_squared += temp**2\n",
    "            running_mean.append(x / (n+1))\n",
    "            running_std.append(((x_squared - (x**2)/(n+1))/(n+1))**0.5)\n",
    "            # DATA PROCESSING placeholder\n",
    "            # MACHINE LEARNING placeholder\n",
    "            pass\n",
    "        print ('Total rows: %i' % (n+1))\n",
    "        print ('Feature \\'temp\\': mean=%0.3f, max=%0.3f, min=%0.3f,sd=%0.3f' \\\n",
    "               % (running_mean[-1], max_x, min_x, running_std[-1]))\n",
    "        return running_mean, running_std\n",
    "print '===========raw data file==========='\n",
    "raw_running_mean, raw_running_std = running_statistic(raw_source)\n",
    "print '===========shuffle data file==========='\n",
    "shuffle_running_mean, shuffle_running_std = running_statistic(shuffle_source)"
   ]
  },
  {
   "cell_type": "code",
   "execution_count": 26,
   "metadata": {},
   "outputs": [
    {
     "data": {
      "image/png": "[encoded data removed]",
      "text/plain": [
       "<matplotlib.figure.Figure at 0x7f73efadf450>"
      ]
     },
     "metadata": {},
     "output_type": "display_data"
    },
    {
     "data": {
      "image/png": "[encoded data removed]",
      "text/plain": [
       "<matplotlib.figure.Figure at 0x7f73ebc5d350>"
      ]
     },
     "metadata": {},
     "output_type": "display_data"
    }
   ],
   "source": [
    "# plot how such stats changed as data was streamed from disk\n",
    "# get an idea about how many instances are required before getting a stable mean and standard deviation estimate\n",
    "import matplotlib.pyplot as plt\n",
    "%matplotlib inline\n",
    "for mean, std in ((raw_running_mean, raw_running_std), (shuffle_running_mean, shuffle_running_std)):\n",
    "    plt.plot(mean,'r-', label='mean')\n",
    "    plt.plot(std,'b-', label='standard deviation')\n",
    "    plt.ylim(0.0,0.6)\n",
    "    plt.xlabel('Number of training examples')\n",
    "    plt.ylabel('Value') \n",
    "    plt.legend(loc='lower right', numpoints= 1)\n",
    "    plt.show()\n",
    "# The difference in the two charts reminds us of the importance of randomizing the order of the observations. "
   ]
  },
  {
   "cell_type": "markdown",
   "metadata": {},
   "source": [
    "## Describing the Covtype dataset\n"
   ]
  },
  {
   "cell_type": "code",
   "execution_count": 27,
   "metadata": {},
   "outputs": [
    {
     "name": "stdout",
     "output_type": "stream",
     "text": [
      "File covtype.data decompressed\n"
     ]
    }
   ],
   "source": [
    "UCI_url = 'https://archive.ics.uci.edu/ml/machine-learning-databases/covtype/covtype.data.gz'\n",
    "gzip_from_UCI(UCI_url)"
   ]
  },
  {
   "cell_type": "code",
   "execution_count": 28,
   "metadata": {},
   "outputs": [
    {
     "name": "stdout",
     "output_type": "stream",
     "text": [
      "Total rows: 581012\n",
      "Frequency of classes:\n",
      "Lodgepole Pine    : 283301 48.8%\n",
      "Spruce/Fir        : 211840 36.5%\n",
      "Ponderosa Pine    :  35754 06.2%\n",
      "Krummholz         :  20510 03.5%\n",
      "Douglas-fir       :  17367 03.0%\n",
      "Aspen             :   9493 01.6%\n",
      "Cottonwood/Willow :   2747 00.5%\n",
      "Other             :      0 00.0%\n"
     ]
    }
   ],
   "source": [
    "import os, csv\n",
    "local_path = os.getcwd()\n",
    "source = 'covtype.data'\n",
    "SEP=','\n",
    "forest_type = {1:\"Spruce/Fir\", 2:\"Lodgepole Pine\", \\\n",
    "               3:\"Ponderosa Pine\", 4:\"Cottonwood/Willow\", \\\n",
    "               5:\"Aspen\", 6:\"Douglas-fir\", 7:\"Krummholz\"}\n",
    "forest_type_count = {value:0 for value in forest_type.values()}\n",
    "forest_type_count['Other'] = 0\n",
    "lodgepole_pine = 0\n",
    "spruce = 0\n",
    "proportions = list()\n",
    "with open(local_path+'/'+source, 'rb') as R:\n",
    "    iterator = csv.reader(R, delimiter=SEP)\n",
    "    for n, row in enumerate(iterator):\n",
    "        response = int(row[-1]) # The response is the last value\n",
    "        try:\n",
    "            forest_type_count[forest_type[response]] +=1\n",
    "            if response == 1:\n",
    "                spruce += 1\n",
    "            elif response == 2:\n",
    "                lodgepole_pine +=1\n",
    "            if n % 10000 == 0:\n",
    "                proportions.append([spruce/float(n+1),\\\n",
    "                                    lodgepole_pine/float(n+1)])\n",
    "        except:\n",
    "            forest_type_count['Other'] += 1\n",
    "    print ('Total rows: %i' % (n+1))\n",
    "    print ('Frequency of classes:')\n",
    "    for ftype, freq in sorted([(t,v) for t,v \\\n",
    "        in forest_type_count.iteritems()], key = \\\n",
    "        lambda x: x[1], reverse=True):\n",
    "            print (\"%-18s: %6i %04.1f%%\" % \\\n",
    "                   (ftype, freq, freq*100/float(n+1)))\n"
   ]
  },
  {
   "cell_type": "code",
   "execution_count": 15,
   "metadata": {},
   "outputs": [
    {
     "data": {
      "image/png": "[encoded data removed]",
      "text/plain": [
       "<matplotlib.figure.Figure at 0xaef3630>"
      ]
     },
     "metadata": {},
     "output_type": "display_data"
    }
   ],
   "source": [
    "import matplotlib.pyplot as plt\n",
    "import numpy as np\n",
    "%matplotlib inline\n",
    "proportions = np.array(proportions)\n",
    "plt.plot(proportions[:,0],'r-', label='Spruce/Fir')\n",
    "plt.plot(proportions[:,1],'b-', label='Lodgepole Pine')\n",
    "plt.ylim(0.0,0.8)\n",
    "plt.xlabel('Training examples (unit=10000)')\n",
    "plt.ylabel('%') \n",
    "plt.legend(loc='lower right', numpoints= 1)\n",
    "plt.show()"
   ]
  },
  {
   "cell_type": "markdown",
   "metadata": {},
   "source": [
    "## The hashing trick"
   ]
  },
  {
   "cell_type": "code",
   "execution_count": 29,
   "metadata": {},
   "outputs": [
    {
     "name": "stdout",
     "output_type": "stream",
     "text": [
      "  (0, 61)\t1.0\n",
      "  (0, 271)\t1.0\n",
      "  (0, 287)\t1.0\n",
      "  (0, 452)\t1.0\n",
      "  (0, 462)\t1.0\n",
      "  (0, 539)\t1.0\n",
      "  (0, 605)\t1.0\n",
      "  (0, 726)\t1.0\n",
      "  (0, 918)\t1.0\n"
     ]
    }
   ],
   "source": [
    "from sklearn.feature_extraction.text import HashingVectorizer\n",
    "h = HashingVectorizer(n_features=1000, binary=True, norm=None)\n",
    "sparse_vector = h.transform(['A simple toy example will make clear how it works.'])\n",
    "print(sparse_vector)"
   ]
  },
  {
   "cell_type": "code",
   "execution_count": 30,
   "metadata": {},
   "outputs": [
    {
     "name": "stdout",
     "output_type": "stream",
     "text": [
      "{'another numeric feature': 2, 'f1*f2*f3': 6, 'numeric feature': 3, 'Categorical feature = 3': 1}\n"
     ]
    }
   ],
   "source": [
    "from sklearn.feature_extraction import FeatureHasher\n",
    "h = FeatureHasher(n_features=1000, non_negative=True)\n",
    "example_row = {'numeric feature':3, 'another numeric feature':2, 'Categorical feature = 3':1, 'f1*f2*f3':1*2*3}\n",
    "print (example_row)"
   ]
  },
  {
   "cell_type": "code",
   "execution_count": 31,
   "metadata": {},
   "outputs": [
    {
     "name": "stdout",
     "output_type": "stream",
     "text": [
      "  (0, 16)\t2.0\n",
      "  (0, 373)\t1.0\n",
      "  (0, 884)\t6.0\n",
      "  (0, 945)\t3.0\n"
     ]
    }
   ],
   "source": [
    "print (h.transform([example_row]))"
   ]
  },
  {
   "cell_type": "markdown",
   "metadata": {},
   "source": [
    "## Other basis transformations"
   ]
  },
  {
   "cell_type": "code",
   "execution_count": 32,
   "metadata": {
    "collapsed": true
   },
   "outputs": [],
   "source": [
    "import numpy as np\n",
    "v = np.array([1, 2, 3, 4, 5, 6, 7, 8, 9, 10])\n",
    "vv = np.hstack((v, [v[i]*v[j] for i in range(len(v)) for j in range(i+1, len(v))]))"
   ]
  },
  {
   "cell_type": "code",
   "execution_count": 33,
   "metadata": {},
   "outputs": [
    {
     "name": "stdout",
     "output_type": "stream",
     "text": [
      "[ 1  2  3  4  5  6  7  8  9 10  2  3  4  5  6  7  8  9 10  6  8 10 12 14 16\n",
      " 18 20 12 15 18 21 24 27 30 20 24 28 32 36 40 30 35 40 45 50 42 48 54 60 56\n",
      " 63 70 72 80 90]\n"
     ]
    }
   ],
   "source": [
    "print vv"
   ]
  },
  {
   "cell_type": "markdown",
   "metadata": {},
   "source": [
    "## Trying SGD in action"
   ]
  },
  {
   "cell_type": "code",
   "execution_count": 34,
   "metadata": {
    "collapsed": true
   },
   "outputs": [],
   "source": [
    "import os\n",
    "local_path = os.getcwd()\n",
    "source = 'covtype.data'\n",
    "ram_shuffle(filename_in=local_path+'/'+source, \\\n",
    "            filename_out=local_path+'/shuffled_covtype.data', \\\n",
    "            header=False)"
   ]
  },
  {
   "cell_type": "code",
   "execution_count": 35,
   "metadata": {},
   "outputs": [
    {
     "name": "stdout",
     "output_type": "stream",
     "text": [
      "15:23:50 holdout accuracy: 0.615\n",
      "15:23:50 progressive accuracy: 0.617\n",
      "15:25:22 holdout accuracy: 0.622\n",
      "15:25:22 progressive accuracy: 0.617\n",
      "15:25:22 FINAL holdout accuracy: 0.622\n",
      "15:25:22 FINAL progressive accuracy: 0.617\n"
     ]
    }
   ],
   "source": [
    "import csv, time\n",
    "import numpy as np\n",
    "from sklearn.linear_model import SGDClassifier\n",
    "source = 'shuffled_covtype.data'\n",
    "SEP=','\n",
    "forest_type = [t+1 for t in range(7)]\n",
    "SGD = SGDClassifier(loss='log', penalty=None, random_state=1, average=True)\n",
    "accuracy = 0\n",
    "holdout_count = 0\n",
    "prog_accuracy = 0\n",
    "prog_count = 0\n",
    "cold_start = 200000\n",
    "k_holdout = 10\n",
    "with open(local_path+'/'+source, 'rb') as R:\n",
    "    iterator = csv.reader(R, delimiter=SEP)\n",
    "    for n, row in enumerate(iterator):\n",
    "        if n > 250000: # Reducing the running time of the experiment\n",
    "            break \n",
    "        # DATA PROCESSING\n",
    "        response = np.array([int(row[-1])]) # The response is the last value\n",
    "        features = np.array(map(float,row[:-1])).reshape(1,-1)\n",
    "        # MACHINE LEARNIN\n",
    "        if (n+1) >= cold_start and (n+1-cold_start) % k_holdout==0:\n",
    "            # hold out after n validation\n",
    "            if int(SGD.predict(features))==response[0]:\n",
    "                accuracy += 1\n",
    "            holdout_count += 1\n",
    "            if (n+1-cold_start) % 25000 == 0 and (n+1) > cold_start:\n",
    "                    print '%s holdout accuracy: %0.3f' % (time.strftime('%X'), accuracy / float(holdout_count))\n",
    "        else:\n",
    "            # PROGRESSIVE VALIDATION\n",
    "            if (n+1) >= cold_start:\n",
    "                if int(SGD.predict(features))==response[0]:\n",
    "                    prog_accuracy += 1\n",
    "                prog_count += 1\n",
    "                if n % 25000 == 0 and n > cold_start:\n",
    "                    print '%s progressive accuracy: %0.3f' % (time.strftime('%X'), prog_accuracy / float(prog_count))\n",
    "            # LEARNING PHASE\n",
    "            SGD.partial_fit(features, response, classes=forest_type)\n",
    "print '%s FINAL holdout accuracy: %0.3f' % (time.strftime('%X'), accuracy / ((n+1-cold_start) / float(k_holdout)))\n",
    "print '%s FINAL progressive accuracy: %0.3f' % (time.strftime('%X'), prog_accuracy / float(prog_count))"
   ]
  },
  {
   "cell_type": "code",
   "execution_count": 36,
   "metadata": {},
   "outputs": [
    {
     "name": "stdout",
     "output_type": "stream",
     "text": [
      "15:32:46 holdout RMSE: 281.214 holdout RMSLE: 1.901\n",
      "15:32:46 holdout RMSE: 255.092 holdout RMSLE: 1.803\n",
      "15:32:46 holdout RMSE: 255.578 holdout RMSLE: 1.799\n",
      "15:32:46 holdout RMSE: 254.598 holdout RMSLE: 1.816\n",
      "15:32:46 holdout RMSE: 239.728 holdout RMSLE: 1.738\n",
      "15:32:46 FINAL holdout RMSE: 229.154\n",
      "15:32:46 FINAL holdout RMSLE: 1.679\n"
     ]
    }
   ],
   "source": [
    "import csv, time, os\n",
    "import numpy as np\n",
    "from sklearn.linear_model import SGDRegressor\n",
    "from sklearn.feature_extraction import FeatureHasher\n",
    "source = '/bikesharing/hour.csv'\n",
    "local_path = os.getcwd()\n",
    "SEP=','\n",
    "def apply_log(x): return np.log(float(x)+1)\n",
    "def apply_exp(x): return np.exp(float(x))-1\n",
    "SGD = SGDRegressor(loss='squared_loss', penalty=None, random_state=1, average=True)\n",
    "h = FeatureHasher(non_negative=True)\n",
    "val_rmse = 0\n",
    "val_rmsle = 0\n",
    "predictions_start = 16000\n",
    "with open(local_path+'/'+source, 'rb') as R:\n",
    "    iterator = csv.DictReader(R, delimiter=SEP)\n",
    "    for n, row in enumerate(iterator):\n",
    "        # DATA PROCESSING\n",
    "        target = np.array([apply_log(row['cnt'])])\n",
    "        category_features = {k+'_'+v:1 for k,v in row.iteritems() \\\n",
    "            if k in ['holiday','hr','mnth','season', \\\n",
    "            'weathersit','weekday','workingday','yr']}\n",
    "        numeric_features = {k:float(v) for k,v in \\\n",
    "           row.iteritems() if k in ['hum', 'temp', '\\\n",
    "           atemp', 'windspeed']}\n",
    "        category_features.update(numeric_features)\n",
    "        hashed_features = h.transform([category_features])\n",
    "        # MACHINE LEARNING\n",
    "        if (n+1) >= predictions_start:\n",
    "            # HOLDOUT AFTER N PHASE\n",
    "            predicted = SGD.predict(hashed_features)\n",
    "            val_rmse += (apply_exp(predicted) \\\n",
    "                - apply_exp(target))**2\n",
    "            val_rmsle += (predicted - target)**2\n",
    "            if (n-predictions_start+1) % 250 == 0 \\\n",
    "                and (n+1) > predictions_start:\n",
    "                print '%s holdout RMSE: %0.3f' \\\n",
    "                % (time.strftime('%X'), (val_rmse \\\n",
    "                / float(n-predictions_start+1))**0.5),\n",
    "                print 'holdout RMSLE: %0.3f' % \\\n",
    "                 ((val_rmsle / float(n-predictions_start+1))**0.5)\n",
    "        else:\n",
    "            # LEARNING PHASE\n",
    "            SGD.partial_fit(hashed_features, target)\n",
    "print '%s FINAL holdout RMSE: %0.3f' % \\\n",
    "    (time.strftime('%X'), (val_rmse \\\n",
    "   / float(n-predictions_start+1))**0.5)\n",
    "print '%s FINAL holdout RMSLE: %0.3f' % \\\n",
    "    (time.strftime('%X'), (val_rmsle \\\n",
    "   / float(n-predictions_start+1))**0.5)"
   ]
  },
  {
   "cell_type": "markdown",
   "metadata": {},
   "source": [
    "## summary\n",
    "In this chapter, we have seen **how learning is possible out-of-core by streaming data**, no matter how big it is, from a text fle or database on your hard disk. These methods certainly apply to much bigger datasets than the examples that we used to\n",
    "demonstrate them (which actually could be solved in-memory using non-average,powerful hardware).\n",
    "\n",
    "We also explained **the core algorithm that makes out-of-core learning possible—SGD**,and we examined its strength and weakness, emphasizing **the necessity of streams to be really stochastic (which means in a random order) to be really effective, unless the order is part of the learning objectives.**\n",
    "\n",
    "In particular, we introduced the Scikit-learn implementation of SGD, limiting our focus to the linear and logistic regression loss functions.\n",
    "\n",
    "Finally, we discussed data preparation, introduced **the hashing trick and validation strategies for streams**, and wrapped up the acquired knowledge on SGD ftting two different models—classifcation and regression"
   ]
  }
 ],
 "metadata": {
  "kernelspec": {
   "display_name": "Python 2",
   "language": "python",
   "name": "python2"
  },
  "language_info": {
   "codemirror_mode": {
    "name": "ipython",
    "version": 2
   },
   "file_extension": ".py",
   "mimetype": "text/x-python",
   "name": "python",
   "nbconvert_exporter": "python",
   "pygments_lexer": "ipython2",
   "version": "2.7.11"
  }
 },
 "nbformat": 4,
 "nbformat_minor": 1
}
